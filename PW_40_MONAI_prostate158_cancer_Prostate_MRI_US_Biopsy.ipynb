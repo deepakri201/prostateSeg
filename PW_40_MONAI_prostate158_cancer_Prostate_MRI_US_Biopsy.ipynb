{
  "cells": [
    {
      "cell_type": "markdown",
      "metadata": {
        "id": "B3u5KEn7rtT5"
      },
      "source": [
        "# Setup -- Restart runtime after execution\n"
      ]
    },
    {
      "cell_type": "code",
      "execution_count": 1,
      "metadata": {
        "id": "ES7SLYXRsLJQ"
      },
      "outputs": [],
      "source": [
        "%%capture\n",
        "!pip install simpleitk\n",
        "!pip install -U \"monai[all]\" pyyaml munch pandas"
      ]
    },
    {
      "cell_type": "code",
      "execution_count": 2,
      "metadata": {
        "id": "WpOXyaF5sjqL"
      },
      "outputs": [],
      "source": [
        "%%capture\n",
        "!pip install protobuf==3.9.2\n",
        "!pip install grpcio\n",
        "!pip install grpcio-tools\n",
        "!pip install google-cloud-bigquery\n",
        "!pip install pydicom\n",
        "!pip install nibabel\n",
        "!pip install dcm2niix"
      ]
    },
    {
      "cell_type": "code",
      "execution_count": 3,
      "metadata": {
        "id": "C6CZPgJosnwq"
      },
      "outputs": [],
      "source": [
        "%%capture\n",
        "!pip install 'itkwidgets>=1.0a16'"
      ]
    },
    {
      "cell_type": "markdown",
      "metadata": {
        "id": "Ea12VKsjt7Fm"
      },
      "source": [
        "[dcmqi](https://github.com/QIICR/dcmqi) is an open source library that can help with the conversion between imaging research formats and the standard DICOM representation for image analysis results. More specifically, you can use dcmqi convert DICOM Segmentation objects (DICOM SEG) into research formats, such as NIfTI and NRRD."
      ]
    },
    {
      "cell_type": "code",
      "execution_count": 4,
      "metadata": {
        "id": "3x79ei7HtR6Q"
      },
      "outputs": [],
      "source": [
        "%%capture\n",
        "!wget https://github.com/QIICR/dcmqi/releases/download/v1.2.5/dcmqi-1.2.5-linux.tar.gz\n",
        "!tar zxvf dcmqi-1.2.5-linux.tar.gz\n",
        "!cp dcmqi-1.2.5-linux/bin/* /usr/local/bin/"
      ]
    },
    {
      "cell_type": "code",
      "execution_count": 5,
      "metadata": {
        "id": "0ofApd6ItdOM"
      },
      "outputs": [],
      "source": [
        "%%capture\n",
        "!pip install -q git-filter-repo"
      ]
    },
    {
      "cell_type": "markdown",
      "metadata": {
        "id": "Db4ansTyzqZ1"
      },
      "source": [
        "# Auth login"
      ]
    },
    {
      "cell_type": "code",
      "execution_count": 6,
      "metadata": {
        "id": "XSg6W2HXzsoG"
      },
      "outputs": [],
      "source": [
        "#colab\n",
        "from google.colab import auth\n",
        "auth.authenticate_user()"
      ]
    },
    {
      "cell_type": "code",
      "execution_count": 7,
      "metadata": {
        "id": "JdD9rcds-s2x"
      },
      "outputs": [],
      "source": [
        "import os\n",
        "project_id = \"namic-prostate\"\n",
        "os.environ[\"GCP_PROJECT_ID\"] = project_id"
      ]
    },
    {
      "cell_type": "markdown",
      "metadata": {
        "id": "99HsWHmzTk-w"
      },
      "source": [
        "## MONAI imports"
      ]
    },
    {
      "cell_type": "code",
      "execution_count": null,
      "metadata": {
        "id": "rgdz9rbOODDE"
      },
      "outputs": [],
      "source": [
        "from google.cloud import bigquery\n",
        "import pandas as pd\n",
        "import SimpleITK as sitk\n",
        "import pydicom\n",
        "import nibabel as nib\n",
        "from scipy import ndimage\n",
        "import numpy as np\n",
        "import glob\n",
        "import json\n",
        "import time"
      ]
    },
    {
      "cell_type": "markdown",
      "metadata": {
        "id": "9KV4c00QM8E-"
      },
      "source": [
        "## Data selection: 3 patients from Prostate-MRI-US-Biopsy - with and without ERC"
      ]
    },
    {
      "cell_type": "markdown",
      "metadata": {
        "id": "wtx8XnLDM8E-"
      },
      "source": [
        "We select T2W, ADC and DWI images for 3 patients that have segmented prostate lesions (segmentation corresponds to T2w images)."
      ]
    },
    {
      "cell_type": "code",
      "execution_count": 9,
      "metadata": {
        "colab": {
          "base_uri": "https://localhost:8080/"
        },
        "id": "G9ky1UR7M8E_",
        "outputId": "399561f2-c5ae-4493-f2f2-0dd696820a2f"
      },
      "outputs": [
        {
          "output_type": "stream",
          "name": "stdout",
          "text": [
            "elapsed time: 3.8330347537994385\n"
          ]
        }
      ],
      "source": [
        "# Query\n",
        "\n",
        "client = bigquery.Client(project=os.environ[\"GCP_PROJECT_ID\"])\n",
        "\n",
        "query_view = f\"\"\"\n",
        "  SELECT\n",
        "    DISTINCT(SeriesInstanceUID),\n",
        "    StudyInstanceUID,\n",
        "    StudyDate,\n",
        "    PatientID,\n",
        "    SOPInstanceUID,\n",
        "    # series_aws_url,\n",
        "    # CONCAT(\"s3://\", SPLIT(gcs_url,\"/\")[SAFE_OFFSET(2)], \"/\", crdc_series_uuid, \"/*\") as aws_location,\n",
        "    gcs_url,\n",
        "    SeriesDescription,\n",
        "    CONCAT(\"https://viewer.imaging.datacommons.cancer.gov/viewer/\", StudyInstanceUID, \"?seriesInstanceUID=\", SeriesInstanceUID) as viewer_url\n",
        "\n",
        "  FROM\n",
        "    `bigquery-public-data.idc_current.dicom_all`\n",
        "  WHERE\n",
        "    collection_id = \"prostate_mri_us_biopsy\" AND\n",
        "    PatientID IN UNNEST([\"Prostate-MRI-US-Biopsy-0001\",\n",
        "                        \"Prostate-MRI-US-Biopsy-0002\",\n",
        "                        \"Prostate-MRI-US-Biopsy-0003\"]) AND\n",
        "    (SeriesDescription LIKE \"%t2%\" OR\n",
        "     SeriesDescription LIKE \"%ADC%\" OR\n",
        "     SeriesDescription LIKE \"%BVAL%\")\n",
        "  ORDER BY\n",
        "    PatientID,\n",
        "    StudyInstanceUID,\n",
        "    StudyDate,\n",
        "    SeriesDescription;\n",
        "\"\"\"\n",
        "\n",
        "start_time = time.time()\n",
        "job_config = bigquery.QueryJobConfig()\n",
        "result = client.query(query_view, job_config=job_config)\n",
        "series_df = result.to_dataframe(create_bqstorage_client=True)\n",
        "end_time = time.time()\n",
        "print ('elapsed time: ' + str(end_time-start_time))\n"
      ]
    },
    {
      "cell_type": "code",
      "execution_count": 10,
      "metadata": {
        "id": "8E7D4oRIM8E_"
      },
      "outputs": [],
      "source": [
        "series_df_gt = series_df.copy(deep=True)\n",
        "SeriesDescription = series_df_gt['SeriesDescription'].values\n",
        "gt = [\"T2_axial\" if \"t2\" in f else f for f in SeriesDescription]\n",
        "gt = [\"DWI\" if \"BVAL\" in f else f for f in gt]\n",
        "gt = [\"ADC\" if \"ADC\" in f else f for f in gt]\n",
        "series_df_gt['gt'] = gt\n",
        "# Now only keep rows where gt equals T2_Axial, DWI, or ADC\n",
        "series_df_gt = series_df_gt[series_df_gt['gt'].isin([\"T2_axial\", \"DWI\", \"ADC\"])]"
      ]
    },
    {
      "cell_type": "code",
      "execution_count": 11,
      "metadata": {
        "colab": {
          "base_uri": "https://localhost:8080/"
        },
        "id": "84wQD-_uM8E_",
        "outputId": "81895e20-d10b-40a1-db34-e375637e5b52"
      },
      "outputs": [
        {
          "output_type": "stream",
          "name": "stdout",
          "text": [
            "3\n",
            "3\n",
            "9\n"
          ]
        }
      ],
      "source": [
        "# Pick 3 patients to analyze\n",
        "\n",
        "PatientID_df = series_df_gt[['PatientID']]\n",
        "PatientID_df = PatientID_df.drop_duplicates()\n",
        "PatientID_list = list(PatientID_df['PatientID'].values)\n",
        "PatientID_list_keep = PatientID_list\n",
        "\n",
        "series_df_analyze = series_df_gt[series_df_gt['PatientID'].isin(PatientID_list_keep)]\n",
        "\n",
        "print(len(set(series_df_analyze['PatientID'].values)))\n",
        "print(len(set(series_df_analyze['StudyInstanceUID'].values)))\n",
        "print(len(set(series_df_analyze['SeriesInstanceUID'].values)))"
      ]
    },
    {
      "cell_type": "code",
      "execution_count": 12,
      "metadata": {
        "id": "5L3U2IM2M8E_"
      },
      "outputs": [],
      "source": [
        "collection_id = \"Prostate-MRI-US-Biopsy\""
      ]
    },
    {
      "cell_type": "code",
      "execution_count": 13,
      "metadata": {
        "colab": {
          "base_uri": "https://localhost:8080/"
        },
        "id": "7C8df544M8E_",
        "outputId": "cffaf1c5-6fda-4288-ead0-3905a442520b"
      },
      "outputs": [
        {
          "output_type": "stream",
          "name": "stdout",
          "text": [
            "num_series: 9\n"
          ]
        }
      ],
      "source": [
        "series_list = set(series_df_analyze['SeriesInstanceUID'].values)\n",
        "num_series = len(series_list)\n",
        "print('num_series: ' + str(num_series))"
      ]
    },
    {
      "cell_type": "markdown",
      "metadata": {
        "id": "d5yqmWPHM8E_"
      },
      "source": [
        "## Data download and convert to Nifti"
      ]
    },
    {
      "cell_type": "code",
      "source": [
        "\n",
        "nifti_directory = \"/content/nifti\"\n",
        "if not os.path.exists(nifti_directory):\n",
        "  os.mkdir(nifti_directory)\n",
        "dicom_directory = \"/content/dicom\"\n",
        "if not os.path.exists(dicom_directory):\n",
        "  os.mkdir(dicom_directory)\n",
        "\n",
        "final_nii_directory = os.path.join(nifti_directory, collection_id, \"nii\")\n",
        "if not os.path.exists(final_nii_directory):\n",
        "  os.makedirs(final_nii_directory)\n",
        "\n",
        "temp_nii_directory = os.path.join(nifti_directory, \"temp\")\n",
        "if not os.path.exists(temp_nii_directory):\n",
        "  os.makedirs(temp_nii_directory)\n",
        "\n",
        "for series_index, series in enumerate(series_list):\n",
        "\n",
        "  print('series_index: ' + str(series_index))\n",
        "  print('series: ' + str(series))\n",
        "\n",
        "  series_df_analyze_keep = series_df_analyze[series_df_analyze['SeriesInstanceUID']==series]\n",
        "\n",
        "  PatientID = str(series_df_analyze_keep['PatientID'].values[0])\n",
        "  print('PatientID: ' + PatientID)\n",
        "  scan = str(series_df_analyze_keep['gt'].values[0])\n",
        "  print('scan: ' + scan)\n",
        "  StudyDate = str(series_df_analyze_keep['StudyDate'].values[0])\n",
        "  print('StudyDate: ' + StudyDate)\n",
        "\n",
        "  output_nii_directory = os.path.join(final_nii_directory, PatientID + '_' + StudyDate)\n",
        "  output_dicom_directory = os.path.join(dicom_directory, collection_id, PatientID + '_' + StudyDate, scan)\n",
        "\n",
        "  if not os.path.isdir(output_nii_directory):\n",
        "    os.makedirs(output_nii_directory)\n",
        "  if not os.path.isdir(output_dicom_directory):\n",
        "    os.makedirs(output_dicom_directory)\n",
        "\n",
        "  start_time = time.time()\n",
        "  gs_file_path = \"/content/gcs_paths.txt\"\n",
        "  series_df_analyze_keep[\"gcs_url\"].to_csv(gs_file_path, header = False, index = False)\n",
        "  !cat $gs_file_path | gsutil -q -m cp -Ir $output_dicom_directory\n",
        "  elapsed = time.time() - start_time\n",
        "  print (\"Done download in %g seconds.\"%elapsed)\n",
        "\n",
        "  # convert to nifti\n",
        "  cmd = 'dcm2niix -z y -m y -o %s  %s ' % (temp_nii_directory, output_dicom_directory)\n",
        "  print(cmd)\n",
        "  ret = os.system(cmd)\n",
        "  print(ret)\n",
        "\n",
        "  # rename\n",
        "  nii_file_orig = [os.path.join(temp_nii_directory,f) for f in os.listdir(temp_nii_directory) if f.endswith('.nii.gz')][0]\n",
        "  nii_file = os.path.join(output_nii_directory, PatientID + '_' + StudyDate + '_' + scan + \".nii.gz\")\n",
        "\n",
        "  os.rename(nii_file_orig, nii_file)\n",
        "  print('nii_file_orig: ' + str(nii_file_orig))\n",
        "  print('nii_file: ' + str(nii_file))\n",
        "\n",
        ""
      ],
      "metadata": {
        "colab": {
          "base_uri": "https://localhost:8080/"
        },
        "id": "jDQ6SDTwQVcL",
        "outputId": "2293a0e8-421e-4100-c1a0-d88e2ccda3ac"
      },
      "execution_count": 14,
      "outputs": [
        {
          "output_type": "stream",
          "name": "stdout",
          "text": [
            "series_index: 0\n",
            "series: 1.3.6.1.4.1.14519.5.2.1.162068516448609870953900942709102912553\n",
            "PatientID: Prostate-MRI-US-Biopsy-0003\n",
            "scan: DWI\n",
            "StudyDate: 2009-03-22\n",
            "Done download in 9.73498 seconds.\n",
            "dcm2niix -z y -m y -o /content/nifti/temp  /content/dicom/Prostate-MRI-US-Biopsy/Prostate-MRI-US-Biopsy-0003_2009-03-22/DWI \n",
            "0\n",
            "nii_file_orig: /content/nifti/temp/DWI_ep2d-advdiff-3Scan-4bval_spair_std_20090322091321_9.nii.gz\n",
            "nii_file: /content/nifti/Prostate-MRI-US-Biopsy/nii/Prostate-MRI-US-Biopsy-0003_2009-03-22/Prostate-MRI-US-Biopsy-0003_2009-03-22_DWI.nii.gz\n",
            "series_index: 1\n",
            "series: 1.3.6.1.4.1.14519.5.2.1.268419299297710555980777749963775398985\n",
            "PatientID: Prostate-MRI-US-Biopsy-0001\n",
            "scan: ADC\n",
            "StudyDate: 2009-06-28\n",
            "Done download in 9.43618 seconds.\n",
            "dcm2niix -z y -m y -o /content/nifti/temp  /content/dicom/Prostate-MRI-US-Biopsy/Prostate-MRI-US-Biopsy-0001_2009-06-28/ADC \n",
            "0\n",
            "nii_file_orig: /content/nifti/temp/ADC_ep2d-advdiff-3Scan-4bval_spair_std_20090628093912_5.nii.gz\n",
            "nii_file: /content/nifti/Prostate-MRI-US-Biopsy/nii/Prostate-MRI-US-Biopsy-0001_2009-06-28/Prostate-MRI-US-Biopsy-0001_2009-06-28_ADC.nii.gz\n",
            "series_index: 2\n",
            "series: 1.3.6.1.4.1.14519.5.2.1.193396267514401301512588123668401918933\n",
            "PatientID: Prostate-MRI-US-Biopsy-0001\n",
            "scan: DWI\n",
            "StudyDate: 2009-06-28\n",
            "Done download in 8.83711 seconds.\n",
            "dcm2niix -z y -m y -o /content/nifti/temp  /content/dicom/Prostate-MRI-US-Biopsy/Prostate-MRI-US-Biopsy-0001_2009-06-28/DWI \n",
            "0\n",
            "nii_file_orig: /content/nifti/temp/DWI_ep2d-advdiff-3Scan-4bval_spair_std_20090628093912_7.nii.gz\n",
            "nii_file: /content/nifti/Prostate-MRI-US-Biopsy/nii/Prostate-MRI-US-Biopsy-0001_2009-06-28/Prostate-MRI-US-Biopsy-0001_2009-06-28_DWI.nii.gz\n",
            "series_index: 3\n",
            "series: 1.3.6.1.4.1.14519.5.2.1.134581986918909360753889591939462644248\n",
            "PatientID: Prostate-MRI-US-Biopsy-0003\n",
            "scan: T2_axial\n",
            "StudyDate: 2009-03-22\n",
            "Done download in 19.4635 seconds.\n",
            "dcm2niix -z y -m y -o /content/nifti/temp  /content/dicom/Prostate-MRI-US-Biopsy/Prostate-MRI-US-Biopsy-0003_2009-03-22/T2_axial \n",
            "0\n",
            "nii_file_orig: /content/nifti/temp/T2_axial_t2_spc_rst_axial_obl_Prostate_20090322091321_13.nii.gz\n",
            "nii_file: /content/nifti/Prostate-MRI-US-Biopsy/nii/Prostate-MRI-US-Biopsy-0003_2009-03-22/Prostate-MRI-US-Biopsy-0003_2009-03-22_T2_axial.nii.gz\n",
            "series_index: 4\n",
            "series: 1.3.6.1.4.1.14519.5.2.1.302570496856396225167391212427066582831\n",
            "PatientID: Prostate-MRI-US-Biopsy-0003\n",
            "scan: ADC\n",
            "StudyDate: 2009-03-22\n",
            "Done download in 8.83711 seconds.\n",
            "dcm2niix -z y -m y -o /content/nifti/temp  /content/dicom/Prostate-MRI-US-Biopsy/Prostate-MRI-US-Biopsy-0003_2009-03-22/ADC \n",
            "0\n",
            "nii_file_orig: /content/nifti/temp/ADC_ep2d-advdiff-3Scan-4bval_spair_std_20090322091321_7.nii.gz\n",
            "nii_file: /content/nifti/Prostate-MRI-US-Biopsy/nii/Prostate-MRI-US-Biopsy-0003_2009-03-22/Prostate-MRI-US-Biopsy-0003_2009-03-22_ADC.nii.gz\n",
            "series_index: 5\n",
            "series: 1.3.6.1.4.1.14519.5.2.1.266717969984343981963002258381778490221\n",
            "PatientID: Prostate-MRI-US-Biopsy-0001\n",
            "scan: T2_axial\n",
            "StudyDate: 2009-06-28\n",
            "Done download in 18.7852 seconds.\n",
            "dcm2niix -z y -m y -o /content/nifti/temp  /content/dicom/Prostate-MRI-US-Biopsy/Prostate-MRI-US-Biopsy-0001_2009-06-28/T2_axial \n",
            "0\n",
            "nii_file_orig: /content/nifti/temp/T2_axial_t2_spc_rst_axial_obl_Prostate_20090628093912_11.nii.gz\n",
            "nii_file: /content/nifti/Prostate-MRI-US-Biopsy/nii/Prostate-MRI-US-Biopsy-0001_2009-06-28/Prostate-MRI-US-Biopsy-0001_2009-06-28_T2_axial.nii.gz\n",
            "series_index: 6\n",
            "series: 1.3.6.1.4.1.14519.5.2.1.37233816211175376152145472039799247527\n",
            "PatientID: Prostate-MRI-US-Biopsy-0002\n",
            "scan: ADC\n",
            "StudyDate: 2009-03-26\n",
            "Done download in 8.73184 seconds.\n",
            "dcm2niix -z y -m y -o /content/nifti/temp  /content/dicom/Prostate-MRI-US-Biopsy/Prostate-MRI-US-Biopsy-0002_2009-03-26/ADC \n",
            "0\n",
            "nii_file_orig: /content/nifti/temp/ADC_ep2d-advdiff-3Scan-4bval_spair_std_20090326082351_6.nii.gz\n",
            "nii_file: /content/nifti/Prostate-MRI-US-Biopsy/nii/Prostate-MRI-US-Biopsy-0002_2009-03-26/Prostate-MRI-US-Biopsy-0002_2009-03-26_ADC.nii.gz\n",
            "series_index: 7\n",
            "series: 1.3.6.1.4.1.14519.5.2.1.186749128823666050588710146976747922803\n",
            "PatientID: Prostate-MRI-US-Biopsy-0002\n",
            "scan: T2_axial\n",
            "StudyDate: 2009-03-26\n",
            "Done download in 14.554 seconds.\n",
            "dcm2niix -z y -m y -o /content/nifti/temp  /content/dicom/Prostate-MRI-US-Biopsy/Prostate-MRI-US-Biopsy-0002_2009-03-26/T2_axial \n",
            "0\n",
            "nii_file_orig: /content/nifti/temp/T2_axial_t2_spc_rst_axial_obl_Prostate_20090326082351_10.nii.gz\n",
            "nii_file: /content/nifti/Prostate-MRI-US-Biopsy/nii/Prostate-MRI-US-Biopsy-0002_2009-03-26/Prostate-MRI-US-Biopsy-0002_2009-03-26_T2_axial.nii.gz\n",
            "series_index: 8\n",
            "series: 1.3.6.1.4.1.14519.5.2.1.189210247425913540085870724026007775300\n",
            "PatientID: Prostate-MRI-US-Biopsy-0002\n",
            "scan: DWI\n",
            "StudyDate: 2009-03-26\n",
            "Done download in 9.43339 seconds.\n",
            "dcm2niix -z y -m y -o /content/nifti/temp  /content/dicom/Prostate-MRI-US-Biopsy/Prostate-MRI-US-Biopsy-0002_2009-03-26/DWI \n",
            "0\n",
            "nii_file_orig: /content/nifti/temp/DWI_ep2d-advdiff-3Scan-4bval_spair_std_20090326082351_8.nii.gz\n",
            "nii_file: /content/nifti/Prostate-MRI-US-Biopsy/nii/Prostate-MRI-US-Biopsy-0002_2009-03-26/Prostate-MRI-US-Biopsy-0002_2009-03-26_DWI.nii.gz\n"
          ]
        }
      ]
    },
    {
      "cell_type": "markdown",
      "metadata": {
        "id": "6PWrgPmjM8E_"
      },
      "source": [
        "## Resample the DWI and ADC files to T2"
      ]
    },
    {
      "cell_type": "code",
      "source": [
        "def resample_image(input_image, reference_image):\n",
        "    # Get the transformation from the input image to the reference image\n",
        "    transform = sitk.Transform()\n",
        "\n",
        "    # Use the resampling filter\n",
        "    resampler = sitk.ResampleImageFilter()\n",
        "    resampler.SetReferenceImage(reference_image)\n",
        "    resampler.SetTransform(transform)  # You may want to set a proper transform here if needed\n",
        "    resampler.SetSize(reference_image.GetSize())\n",
        "    resampler.SetOutputSpacing(reference_image.GetSpacing())\n",
        "    resampler.SetOutputOrigin(reference_image.GetOrigin())\n",
        "    resampler.SetOutputDirection(reference_image.GetDirection())\n",
        "\n",
        "    # Perform the resampling\n",
        "    output_image = resampler.Execute(input_image)\n",
        "\n",
        "    return output_image"
      ],
      "metadata": {
        "id": "tFYgYqtHUzm6"
      },
      "execution_count": 15,
      "outputs": []
    },
    {
      "cell_type": "code",
      "execution_count": 16,
      "metadata": {
        "id": "zRGLmAHyM8E_"
      },
      "outputs": [],
      "source": [
        "list_all_patient_dirs = [os.path.join(final_nii_directory, f) for f in os.listdir(final_nii_directory) if os.path.isdir(os.path.join(final_nii_directory, f))]\n",
        "\n",
        "for patient_dir in list_all_patient_dirs:\n",
        "  T2_filename = [os.path.join(patient_dir, f) for f in os.listdir(patient_dir) if f.endswith('T2_axial.nii.gz')][0]\n",
        "  ADC_filename = [os.path.join(patient_dir, f) for f in os.listdir(patient_dir) if f.endswith('ADC.nii.gz')][0]\n",
        "  DWI_filename = [os.path.join(patient_dir, f) for f in os.listdir(patient_dir) if f.endswith('DWI.nii.gz')][0]\n",
        "\n",
        "  ADC_resampled_filename = ADC_filename.replace(\"ADC.nii.gz\", \"ADC_resampled_to_T2_itk.nii.gz\")\n",
        "  DWI_resampled_filename = DWI_filename.replace(\"DWI.nii.gz\", \"DWI_resampled_to_T2_itk.nii.gz\")\n",
        "\n",
        "  ### resample ADC to T2 using ITK ###\n",
        "\n",
        "  # read T2\n",
        "  reader = sitk.ImageFileReader()\n",
        "  reader.SetImageIO(\"NiftiImageIO\")\n",
        "  reader.SetFileName(T2_filename)\n",
        "  t2_image = reader.Execute()\n",
        "  t2_image = sitk.Cast(t2_image, sitk.sitkFloat32)\n",
        "\n",
        "  # read ADC\n",
        "  reader = sitk.ImageFileReader()\n",
        "  reader.SetImageIO(\"NiftiImageIO\")\n",
        "  reader.SetFileName(ADC_filename)\n",
        "  adc_image = reader.Execute()\n",
        "  adc_image = sitk.Cast(adc_image, sitk.sitkFloat32)\n",
        "\n",
        "  # resample\n",
        "  adc_image_resampled_to_t2 = resample_image(adc_image, t2_image)\n",
        "\n",
        "  # save as nifti\n",
        "  writer = sitk.ImageFileWriter()\n",
        "  writer.SetFileName(ADC_resampled_filename)\n",
        "  writer.Execute(adc_image_resampled_to_t2)\n",
        "\n",
        "  ### resample DWI to T2 using ITK ###\n",
        "\n",
        "  # read DWI\n",
        "  reader = sitk.ImageFileReader()\n",
        "  reader.SetImageIO(\"NiftiImageIO\")\n",
        "  reader.SetFileName(DWI_filename)\n",
        "  dwi_image = reader.Execute()\n",
        "  dwi_image = sitk.Cast(dwi_image, sitk.sitkFloat32)\n",
        "\n",
        "  # resample\n",
        "  dwi_image_resampled_to_t2 = resample_image(dwi_image, t2_image)\n",
        "\n",
        "  # save as nifti\n",
        "  writer = sitk.ImageFileWriter()\n",
        "  writer.SetFileName(DWI_resampled_filename)\n",
        "  writer.Execute(dwi_image_resampled_to_t2)\n"
      ]
    },
    {
      "cell_type": "code",
      "execution_count": 17,
      "metadata": {
        "id": "wni3KfliM8FA"
      },
      "outputs": [],
      "source": [
        "# remove temp nifti files\n",
        "!rm -r /content/nifti/temp/*\n"
      ]
    },
    {
      "cell_type": "markdown",
      "metadata": {
        "id": "3Ata-CyvM8FA"
      },
      "source": [
        "## Get lesion segmentation for these patients"
      ]
    },
    {
      "cell_type": "code",
      "execution_count": 18,
      "metadata": {
        "colab": {
          "base_uri": "https://localhost:8080/"
        },
        "id": "WNTb3s28M8FA",
        "outputId": "53d22454-f22a-42ea-e929-fa9a3f07f127"
      },
      "outputs": [
        {
          "output_type": "stream",
          "name": "stdout",
          "text": [
            "elapsed time: 3.6910102367401123\n"
          ]
        }
      ],
      "source": [
        "# Query\n",
        "\n",
        "client = bigquery.Client(project=os.environ[\"GCP_PROJECT_ID\"])\n",
        "\n",
        "query_view = f\"\"\"\n",
        "  SELECT\n",
        "    DISTINCT(SeriesInstanceUID),\n",
        "    StudyInstanceUID,\n",
        "    StudyDate,\n",
        "    PatientID,\n",
        "    SOPInstanceUID,\n",
        "    gcs_url,\n",
        "    SeriesDescription,\n",
        "  FROM\n",
        "    `bigquery-public-data.idc_current.dicom_all`\n",
        "  WHERE\n",
        "    collection_id = \"prostate_mri_us_biopsy\" AND\n",
        "    Modality = \"SEG\" AND\n",
        "    # SeriesDescription LIKE \"%T2 Weighted Axial Segmentations%\" AND\n",
        "    SeriesDescription LIKE \"%Segmentation of prostate lesion 1%\" AND\n",
        "    PatientID IN UNNEST(@PatientID_list_keep)\n",
        "  ORDER BY\n",
        "    PatientID,\n",
        "    StudyInstanceUID,\n",
        "    StudyDate,\n",
        "    SeriesDescription;\n",
        "\"\"\"\n",
        "\n",
        "start_time = time.time()\n",
        "job_config = bigquery.QueryJobConfig(query_parameters=[\n",
        "        bigquery.ArrayQueryParameter(\"PatientID_list_keep\", \"STRING\", PatientID_list_keep),\n",
        "    ])\n",
        "result = client.query(query_view, job_config=job_config)\n",
        "series_df = result.to_dataframe(create_bqstorage_client=True)\n",
        "end_time = time.time()\n",
        "print ('elapsed time: ' + str(end_time-start_time))"
      ]
    },
    {
      "cell_type": "code",
      "execution_count": 19,
      "metadata": {
        "id": "_HPwFTE5M8FA"
      },
      "outputs": [],
      "source": [
        "series_list_seg = series_df['SeriesInstanceUID'].values"
      ]
    },
    {
      "cell_type": "code",
      "execution_count": 20,
      "metadata": {
        "colab": {
          "base_uri": "https://localhost:8080/"
        },
        "id": "kX_q3dfvM8FA",
        "outputId": "71a251ac-7af5-4679-f8a5-10eef43209cc"
      },
      "outputs": [
        {
          "output_type": "stream",
          "name": "stdout",
          "text": [
            "series_index: 0\n",
            "series: 1.2.276.0.7230010.3.1.3.0.45565.1698537457.857823\n",
            "PatientID: Prostate-MRI-US-Biopsy-0001\n",
            "StudyDate: 2009-06-28\n",
            "Done download in 4.41779 seconds.\n",
            "dcmqi repository URL: git@github.com:QIICR/dcmqi.git revision: 1153738 tag: v1.2.5\n",
            "Row direction: 1 0 0\n",
            "Col direction: 0 1 0\n",
            "Z direction: 0 0 1\n",
            "Total frames: 60\n",
            "Total frames with unique IPP: 60\n",
            "Total overlapping frames: 0\n",
            "Origin: [-107.932, -66.0445, -74.8811]\n",
            "num_files: 1\n",
            "/content/nifti/Prostate-MRI-US-Biopsy/nii_seg/Prostate-MRI-US-Biopsy-0001_2009-06-28/segment-1.nii.gz\n",
            "/content/nifti/Prostate-MRI-US-Biopsy/nii_seg/Prostate-MRI-US-Biopsy-0001_2009-06-28/Lesion 1.nii.gz\n",
            "series_index: 1\n",
            "series: 1.2.276.0.7230010.3.1.3.0.45171.1698537292.711081\n",
            "PatientID: Prostate-MRI-US-Biopsy-0002\n",
            "StudyDate: 2009-03-26\n",
            "Done download in 4.52259 seconds.\n",
            "dcmqi repository URL: git@github.com:QIICR/dcmqi.git revision: 1153738 tag: v1.2.5\n",
            "Row direction: 0.999848 0 -0.0174524\n",
            "Col direction: 0 1 0\n",
            "Z direction: 0.0174524 -0 0.999848\n",
            "Total frames: 60\n",
            "Total frames with unique IPP: 60\n",
            "Total overlapping frames: 0\n",
            "Origin: [-109.056, -83.8373, -30.169]\n",
            "num_files: 1\n",
            "/content/nifti/Prostate-MRI-US-Biopsy/nii_seg/Prostate-MRI-US-Biopsy-0002_2009-03-26/segment-1.nii.gz\n",
            "/content/nifti/Prostate-MRI-US-Biopsy/nii_seg/Prostate-MRI-US-Biopsy-0002_2009-03-26/Lesion 1.nii.gz\n",
            "series_index: 2\n",
            "series: 1.2.276.0.7230010.3.1.3.0.42742.1698536618.365302\n",
            "PatientID: Prostate-MRI-US-Biopsy-0003\n",
            "StudyDate: 2009-03-22\n",
            "Done download in 4.41756 seconds.\n",
            "dcmqi repository URL: git@github.com:QIICR/dcmqi.git revision: 1153738 tag: v1.2.5\n",
            "Row direction: 1 0 0\n",
            "Col direction: 0 1 0\n",
            "Z direction: 0 0 1\n",
            "Total frames: 60\n",
            "Total frames with unique IPP: 60\n",
            "Total overlapping frames: 0\n",
            "Origin: [-95.1263, -67.1277, 21.7575]\n",
            "num_files: 1\n",
            "/content/nifti/Prostate-MRI-US-Biopsy/nii_seg/Prostate-MRI-US-Biopsy-0003_2009-03-22/segment-1.nii.gz\n",
            "/content/nifti/Prostate-MRI-US-Biopsy/nii_seg/Prostate-MRI-US-Biopsy-0003_2009-03-22/Lesion 1.nii.gz\n"
          ]
        }
      ],
      "source": [
        "# Download and convert\n",
        "\n",
        "final_nii_seg_directory = os.path.join(nifti_directory, collection_id, \"nii_seg\")\n",
        "if not os.path.exists(final_nii_seg_directory):\n",
        "  os.makedirs(final_nii_seg_directory)\n",
        "\n",
        "for series_index, series in enumerate(series_list_seg):\n",
        "\n",
        "  print('series_index: ' + str(series_index))\n",
        "  print('series: ' + str(series))\n",
        "\n",
        "  series_df_analyze_keep = series_df[series_df['SeriesInstanceUID']==series]\n",
        "\n",
        "  PatientID = str(series_df_analyze_keep['PatientID'].values[0])\n",
        "  print('PatientID: ' + PatientID)\n",
        "  StudyDate = str(series_df_analyze_keep['StudyDate'].values[0])\n",
        "  print('StudyDate: ' + StudyDate)\n",
        "\n",
        "  output_nii_directory = os.path.join(final_nii_seg_directory, PatientID + '_' + StudyDate)\n",
        "  output_dicom_directory = os.path.join(dicom_directory, PatientID + '_' + StudyDate)\n",
        "\n",
        "  if not os.path.isdir(output_nii_directory):\n",
        "    os.makedirs(output_nii_directory)\n",
        "  if not os.path.isdir(output_dicom_directory):\n",
        "    os.makedirs(output_dicom_directory)\n",
        "\n",
        "  start_time = time.time()\n",
        "  gs_file_path = \"/content/gcs_paths.txt\"\n",
        "  series_df_analyze_keep[\"gcs_url\"].to_csv(gs_file_path, header = False, index = False)\n",
        "  !cat $gs_file_path | gsutil -q -m cp -Ir $output_dicom_directory\n",
        "  elapsed = time.time() - start_time\n",
        "  print (\"Done download in %g seconds.\"%elapsed)\n",
        "\n",
        "  # change name of dicom seg file\n",
        "  seg_file_input = [os.path.join(output_dicom_directory,f) for f in os.listdir(output_dicom_directory)][0]\n",
        "  seg_file_output = os.path.join(output_dicom_directory,'seg.dcm')\n",
        "  !mv $seg_file_input $seg_file_output\n",
        "\n",
        "  # convert to nifti\n",
        "  !segimage2itkimage --prefix \"segment\" --outputType nifti --outputDirectory $output_nii_directory --inputDICOM $seg_file_output\n",
        "\n",
        "  # rename nii files with labels.\n",
        "  nii_files = sorted([os.path.join(output_nii_directory,f) for f in os.listdir(output_nii_directory) if f.startswith('segment') and f.endswith('.nii.gz')])\n",
        "  num_nii_files = len(nii_files)\n",
        "  print('num_files: ' + str(num_nii_files))\n",
        "  # rename according to segments in json file\n",
        "  meta_json_filename = os.path.join(output_nii_directory, 'segment-meta.json')\n",
        "  f = open(meta_json_filename)\n",
        "  metadata = json.load(f)['segmentAttributes']\n",
        "  num_segments = len(metadata)\n",
        "  for m in range(0,num_segments):\n",
        "    input_filename = nii_files[m]\n",
        "    output_filename = os.path.join(output_nii_directory, metadata[m][0]['SegmentLabel'].strip()+'.nii.gz')\n",
        "    print(input_filename)\n",
        "    print(output_filename)\n",
        "    os.rename(input_filename, output_filename)\n",
        "\n"
      ]
    },
    {
      "cell_type": "markdown",
      "metadata": {
        "id": "crlbOe069qnD"
      },
      "source": [
        "# Setup of working directory for inference using MONAI prostate158 cancer model"
      ]
    },
    {
      "cell_type": "code",
      "execution_count": 21,
      "metadata": {
        "id": "zVAreYCAdC6a"
      },
      "outputs": [],
      "source": [
        "!rm -rf monai_pcdetection_bundle"
      ]
    },
    {
      "cell_type": "markdown",
      "metadata": {
        "id": "dCVK8RDcSQ2i"
      },
      "source": [
        "Definition of inference paths in our local environment."
      ]
    },
    {
      "cell_type": "code",
      "execution_count": 61,
      "metadata": {
        "id": "3Ov9CLFE9_JV"
      },
      "outputs": [],
      "source": [
        "#Definition of paths\n",
        "os.environ[\"monai_workspace\"] = \"monai_pcdetection_bundle\"\n",
        "os.environ[\"monai_workspace_eval\"] = os.path.join(os.environ[\"monai_workspace\"], \"eval/\")\n",
        "os.environ[\"monai_workspace_dataset\"] = os.path.join(os.environ[\"monai_workspace\"], \"dataset/\")\n",
        "os.environ[\"monai_workspace_model_dir\"] = os.path.join(os.environ[\"monai_workspace\"], \"models\")\n",
        "os.environ[\"monai_workspace_model_path\"] = os.path.join(os.environ[\"monai_workspace\"], \"models\", \"cancer.pt\")\n",
        "os.environ[\"monai_workspace_config_dir\"] = os.path.join(os.environ[\"monai_workspace\"], \"configs\")"
      ]
    },
    {
      "cell_type": "code",
      "execution_count": 62,
      "metadata": {
        "id": "Vote_JKY93vT"
      },
      "outputs": [],
      "source": [
        "#Make sure these folders exists, otherwise create\n",
        "!mkdir -p {os.environ[\"monai_workspace\"]}\n",
        "!mkdir -p {os.environ[\"monai_workspace_eval\"]}\n",
        "!mkdir -p {os.environ[\"monai_workspace_dataset\"]}\n",
        "!mkdir -p {os.environ[\"monai_workspace_model_dir\"]}"
      ]
    },
    {
      "cell_type": "markdown",
      "source": [
        "Download PC segmentation bundle from github.\n",
        "Move it into bundle config folder. The bundle contains configuration files that we will modify to indicate the source files for the inference (datalist.json, inference.json)."
      ],
      "metadata": {
        "id": "qVYy5kJMJPYz"
      }
    },
    {
      "cell_type": "code",
      "source": [
        "%%capture\n",
        "!git clone --depth 1 --branch main https://github.com/ImagingDataCommons/idc-prostate-mri-analysis.git\n",
        "%cd idc-prostate-mri-analysis\n",
        "!git filter-repo --subdirectory-filter pcDetectionBundle\n",
        "!cp -r ./configs ../monai_pcdetection_bundle/\n",
        "%cd ..\n",
        "!rm -r idc-prostate-mri-analysis"
      ],
      "metadata": {
        "id": "_r5qwQq_EECj"
      },
      "execution_count": null,
      "outputs": []
    },
    {
      "cell_type": "markdown",
      "metadata": {
        "id": "0nqi-avDTjX_"
      },
      "source": [
        "Download pre-trained PC model to local model path : bundle/models/placeholder.pt"
      ]
    },
    {
      "cell_type": "code",
      "execution_count": null,
      "metadata": {
        "id": "33m9Qer9M8FB"
      },
      "outputs": [],
      "source": [
        "%%capture\n",
        "!wget https://zenodo.org/records/6397057/files/tumor.pt\n",
        "!mv /content/tumor.pt {os.environ[\"monai_workspace_model_dir\"]}/cancer.pt\n"
      ]
    },
    {
      "cell_type": "markdown",
      "metadata": {
        "id": "ss8UinEgXE6h"
      },
      "source": [
        "Copy T2,ADC,DWI data as an input for the inference pipeline."
      ]
    },
    {
      "cell_type": "markdown",
      "metadata": {
        "id": "wdCnryXoTvlg"
      },
      "source": [
        "Since we are dealing with multi-modality input data([t2,adc,dwi]), monai bundle expects a certain format :\n"
      ]
    },
    {
      "cell_type": "markdown",
      "metadata": {
        "id": "oIN4-F0gUZS6"
      },
      "source": [
        "![Screen Shot 2023-02-06 at 2.49.14 PM.png](data:image/png;base64,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)"
      ]
    },
    {
      "cell_type": "markdown",
      "metadata": {
        "id": "2IeTILelUaNs"
      },
      "source": [
        "Please also keep in mind that the loading method used here needs relative paths to the bundle root folder to work properly, not absolute paths.\n",
        "\n",
        "During inference, writing to disk of the model ouputs only takes into account the file name, so please make sure your input nifti samples have different naming, even across modalities of the same sample, convention used here is caseID_modality.nii.gz"
      ]
    },
    {
      "cell_type": "markdown",
      "metadata": {
        "id": "HLWswK5pUi3-"
      },
      "source": [
        "The pipeline below showcases :\n",
        "\n",
        "input_nifti_data_paths\n",
        "\n",
        "**-->**\n",
        "\n",
        "```\n",
        "[[caseID1_t2.nii.gz, caseID1_adc.nii.gz, caseID1_dwi.nii.gz],\n",
        "\n",
        "[caseID2_t2.nii.gz, caseID2_adc.nii.gz, caseID2_dwi.nii.gz],...]\n",
        "```\n",
        "\n",
        "**-->** dump to json : datalist.json\n",
        "\n",
        "\n",
        "This datalist.json is later loaded in the inference.json and looks like this :\n",
        "\n",
        "\n",
        "\n",
        "```\n",
        "{\"testing\" : [relative_path/caseID1_t2.nii.gz, relative_path/caseID1_adc.nii.gz, relative_pathcaseID1_dwi.nii.gz],\n",
        "\n",
        "[relative_path/caseID2_t2.nii.gz, relative_path/caseID2_adc.nii.gz, relative_path/caseID2_dwi.nii.gz],...}\n",
        "```\n",
        "\n",
        "\n"
      ]
    },
    {
      "cell_type": "markdown",
      "metadata": {
        "id": "I4vX5e5pVg9_"
      },
      "source": [
        "Move nifti files to be analyzed to monai workspaces folder"
      ]
    },
    {
      "cell_type": "code",
      "execution_count": 73,
      "metadata": {
        "id": "1sp6rg06Wlqo"
      },
      "outputs": [],
      "source": [
        "!cp -r '/content/nifti/Prostate-MRI-US-Biopsy' {os.environ['monai_workspace_dataset']}/"
      ]
    },
    {
      "cell_type": "code",
      "execution_count": null,
      "metadata": {
        "id": "C_jhHJJao5pF"
      },
      "outputs": [],
      "source": [
        "eval_lst = list(zip(sorted(glob.glob(os.path.join(os.environ['monai_workspace_dataset'], \"Prostate-MRI-US-Biopsy/nii/*/*T2_axial.nii.gz\"))),\n",
        "         sorted(glob.glob(os.path.join(os.environ['monai_workspace_dataset'],\"Prostate-MRI-US-Biopsy/nii/*/*DWI_resampled_to_T2_itk.nii.gz\"))),\n",
        "         sorted(glob.glob(os.path.join(os.environ['monai_workspace_dataset'], \"Prostate-MRI-US-Biopsy/nii/*/*ADC_resampled_to_T2_itk.nii.gz\")))))\n",
        "\n",
        "for x in eval_lst :\n",
        "    assert os.path.exists(x[0])\n",
        "    assert os.path.exists(x[1])\n",
        "    assert os.path.exists(x[2])\n",
        "\n",
        "eval_lst = [(x[0].replace(os.environ['monai_workspace'], \"/content/\" + os.environ['monai_workspace']),\n",
        "             x[1].replace(os.environ['monai_workspace'], \"/content/\" + os.environ['monai_workspace']),\n",
        "             x[2].replace(os.environ['monai_workspace'], \"/content/\" + os.environ['monai_workspace'])) for x in eval_lst]\n",
        "\n",
        "\n"
      ]
    },
    {
      "cell_type": "code",
      "execution_count": 75,
      "metadata": {
        "id": "tQKWKemCdkBq"
      },
      "outputs": [],
      "source": [
        "!rm -rf {os.path.join(os.environ[\"monai_workspace\"], 'datalist.json')}"
      ]
    },
    {
      "cell_type": "code",
      "execution_count": 76,
      "metadata": {
        "id": "zlCLTkR4sCfD"
      },
      "outputs": [],
      "source": [
        "for index, item in enumerate(eval_lst) :\n",
        "  eval_lst[index]={\"image\" : item}\n",
        "with open(os.path.join(os.environ[\"monai_workspace\"],'datalist.json'), 'w') as fp:\n",
        "  json.dump({\"testing\" : eval_lst}, fp)"
      ]
    },
    {
      "cell_type": "markdown",
      "metadata": {
        "id": "oMwzuvQnh9bc"
      },
      "source": [
        "\n",
        "To use the bundle on our own data, we need to modify the inference.json file from the bundle.\n",
        "\n",
        "The variables that we need to modify are the locations of the data, model and output directories paths.\n"
      ]
    },
    {
      "cell_type": "code",
      "execution_count": 79,
      "metadata": {
        "id": "XD-BOU6v-79-"
      },
      "outputs": [],
      "source": [
        "inference_json = json.load(open(os.path.join(os.environ[\"monai_workspace_config_dir\"], \"inference.json\")))\n",
        "#setup variables\n",
        "inference_json[\"bundle_root\"] = os.environ[\"monai_workspace\"]\n",
        "inference_json[\"output_dir\"] = os.environ[\"monai_workspace_eval\"]\n",
        "inference_json[\"dataset_dir\"] = os.environ[\"monai_workspace_dataset\"]\n",
        "inference_json[\"handlers\"][0][\"load_path\"] = os.environ[\"monai_workspace_model_path\"]\n",
        "inference_json[\"test_datalist\"] = \"$monai.data.load_decathlon_datalist('/content/monai_pcdetection_bundle/datalist.json', data_list_key='testing')\""
      ]
    },
    {
      "cell_type": "markdown",
      "metadata": {
        "id": "Euy1QBsgiBq1"
      },
      "source": [
        "Overriding of inference.json to local workspace"
      ]
    },
    {
      "cell_type": "code",
      "execution_count": 80,
      "metadata": {
        "id": "9KcMdEHGb_AD"
      },
      "outputs": [],
      "source": [
        "with open(os.environ[\"monai_workspace_config_dir\"]+\"/inference.json\", 'w') as fp:\n",
        "    json.dump(inference_json, fp, indent=4)"
      ]
    },
    {
      "cell_type": "markdown",
      "metadata": {
        "id": "2XxUaRafeYWd"
      },
      "source": [
        "# Inference"
      ]
    },
    {
      "cell_type": "code",
      "execution_count": 81,
      "metadata": {
        "colab": {
          "base_uri": "https://localhost:8080/"
        },
        "id": "1p3mWcGkeaDX",
        "outputId": "c6ddc3cb-87aa-47e4-bf78-f1978769899e"
      },
      "outputs": [
        {
          "output_type": "stream",
          "name": "stdout",
          "text": [
            "2024-02-02 09:17:09.337543: E external/local_xla/xla/stream_executor/cuda/cuda_dnn.cc:9261] Unable to register cuDNN factory: Attempting to register factory for plugin cuDNN when one has already been registered\n",
            "2024-02-02 09:17:09.337613: E external/local_xla/xla/stream_executor/cuda/cuda_fft.cc:607] Unable to register cuFFT factory: Attempting to register factory for plugin cuFFT when one has already been registered\n",
            "2024-02-02 09:17:09.339039: E external/local_xla/xla/stream_executor/cuda/cuda_blas.cc:1515] Unable to register cuBLAS factory: Attempting to register factory for plugin cuBLAS when one has already been registered\n",
            "2024-02-02 09:17:09.347034: I tensorflow/core/platform/cpu_feature_guard.cc:182] This TensorFlow binary is optimized to use available CPU instructions in performance-critical operations.\n",
            "To enable the following instructions: AVX2 AVX512F FMA, in other operations, rebuild TensorFlow with the appropriate compiler flags.\n",
            "2024-02-02 09:17:10.496213: W tensorflow/compiler/tf2tensorrt/utils/py_utils.cc:38] TF-TRT Warning: Could not find TensorRT\n",
            "2024-02-02 09:17:12,411 - INFO - --- input summary of monai.bundle.scripts.run ---\n",
            "2024-02-02 09:17:12,411 - INFO - > config_file: '/content/monai_pcdetection_bundle/configs/inference.json'\n",
            "2024-02-02 09:17:12,411 - INFO - > meta_file: '/content/monai_pcdetection_bundle/configs/metadata.json'\n",
            "2024-02-02 09:17:12,411 - INFO - > run_id: 'evaluating'\n",
            "2024-02-02 09:17:12,411 - INFO - ---\n",
            "\n",
            "\n",
            "monai.bundle.workflows ConfigWorkflow.__init__:workflow_type: Current default value of argument `workflow_type=None` has been deprecated since version 1.2. It will be changed to `workflow_type=train` in version 1.4.\n",
            "2024-02-02 09:17:12,411 - WARNING - Default logging file in /content/monai_pcdetection_bundle/configs/logging.conf does not exist, skipping logging.\n",
            "This DataLoader will create 4 worker processes in total. Our suggested max number of worker in current system is 2, which is smaller than what this DataLoader is going to create. Please be aware that excessive worker creation might get DataLoader running slow or even freeze, lower the worker number to avoid potential slowness/freeze if necessary.\n",
            "2024-02-02 09:17:41,813 INFO image_writer.py:197 - writing: monai_pcdetection_bundle/eval/Prostate-MRI-US-Biopsy-0001_2009-06-28_T2_axial/Prostate-MRI-US-Biopsy-0001_2009-06-28_T2_axial_trans.nii.gz\n",
            "2024-02-02 09:17:43,973 INFO image_writer.py:197 - writing: monai_pcdetection_bundle/eval/Prostate-MRI-US-Biopsy-0002_2009-03-26_T2_axial/Prostate-MRI-US-Biopsy-0002_2009-03-26_T2_axial_trans.nii.gz\n",
            "2024-02-02 09:17:45,816 INFO image_writer.py:197 - writing: monai_pcdetection_bundle/eval/Prostate-MRI-US-Biopsy-0003_2009-03-22_T2_axial/Prostate-MRI-US-Biopsy-0003_2009-03-22_T2_axial_trans.nii.gz\n"
          ]
        }
      ],
      "source": [
        "!python -m monai.bundle run evaluating --meta_file /content/monai_pcdetection_bundle/configs/metadata.json --config_file /content/monai_pcdetection_bundle/configs/inference.json"
      ]
    }
  ],
  "metadata": {
    "accelerator": "GPU",
    "colab": {
      "gpuType": "T4",
      "provenance": []
    },
    "kernelspec": {
      "display_name": "Python 3",
      "name": "python3"
    },
    "language_info": {
      "name": "python"
    }
  },
  "nbformat": 4,
  "nbformat_minor": 0
}